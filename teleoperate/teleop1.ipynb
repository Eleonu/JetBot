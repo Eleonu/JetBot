{
 "cells": [
  {
   "cell_type": "code",
   "execution_count": null,
   "metadata": {},
   "outputs": [],
   "source": [
    "import ipywidgets.widgets as widgets\n",
    "\n",
    "controller = widgets.Controller(index=0)  # replace with index of your controller\n",
    "\n",
    "display(controller)\n"
   ]
  },
  {
   "cell_type": "code",
   "execution_count": null,
   "metadata": {},
   "outputs": [],
   "source": [
    "from jetbot import Robot\n",
    "import traitlets\n",
    "\n",
    "robot = Robot()\n",
    "\n",
    "# Creates class Vel() and members lin and ang. Lin is forward motion and ang is rotational motion\n",
    "class Vel(traitlets.HasTraits):\n",
    "    lin = traitlets.Float(default_value = 0.0)\n",
    "    ang = traitlets.Float(default_value = 0.0)\n",
    "\n",
    "# Creates variable vel and equates it to class Vel()\n",
    "vel = Vel()\n",
    "\n",
    "# Modifies angle of rotation ang to control the speed of rotation\n",
    "wheel_separation = 1.0\n",
    "\n",
    "# Links inverted axis 1 to vel member lin\n",
    "lin_link = traitlets.dlink((controller.axes[1], 'value'), (vel, 'lin'), transform = lambda x: -x)\n",
    "# Links inverted axis 0 to vel member ang\n",
    "ang_link = traitlets.dlink((controller.axes[0], 'value'), (vel, 'ang'), transform = lambda x: -x)\n",
    "\n",
    "# Implements changes in vel members, lin and ang, to control motors\n",
    "def control_vel(change):\n",
    "    robot.left_motor.value = vel.lin - (vel.ang * wheel_separation / 2);\n",
    "    robot.right_motor.value  = vel.lin + (vel.ang * wheel_separation / 2);\n",
    "\n",
    "# Monitors changes in the members of vel class, lin and ang\n",
    "vel.observe(control_vel, names = ('lin', 'ang'))"
   ]
  },
  {
   "cell_type": "code",
   "execution_count": null,
   "metadata": {},
   "outputs": [],
   "source": []
  },
  {
   "cell_type": "code",
   "execution_count": null,
   "metadata": {},
   "outputs": [],
   "source": []
  }
 ],
 "metadata": {
  "kernelspec": {
   "display_name": "Python 3",
   "language": "python",
   "name": "python3"
  },
  "language_info": {
   "codemirror_mode": {
    "name": "ipython",
    "version": 3
   },
   "file_extension": ".py",
   "mimetype": "text/x-python",
   "name": "python",
   "nbconvert_exporter": "python",
   "pygments_lexer": "ipython3",
   "version": "3.6.9"
  }
 },
 "nbformat": 4,
 "nbformat_minor": 4
}
